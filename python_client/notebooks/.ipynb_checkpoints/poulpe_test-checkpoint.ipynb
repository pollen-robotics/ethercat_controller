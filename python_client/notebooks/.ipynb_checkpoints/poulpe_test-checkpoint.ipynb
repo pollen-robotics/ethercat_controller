{
 "cells": [
  {
   "cell_type": "code",
   "execution_count": 24,
   "id": "c69edec1-3871-44d0-a104-73a40eebb4ee",
   "metadata": {},
   "outputs": [],
   "source": [
    "from python_client import PyPoulpeRemoteClient\n",
    "\n",
    "slave_id = 0\n",
    "n_axis = 2 # 2 or 3\n",
    "\n",
    "# Create an instance of the client\n",
    "client = PyPoulpeRemoteClient(\"http://127.0.0.1:50098\", [slave_id], 0.002)\n",
    "\n",
    "# Use client methods\n",
    "client.turn_on(slave_id)\n",
    "client.set_torque_limit(slave_id,[1.0]*n_axis)\n",
    "client.set_velocity_limit(slave_id, [1.0]*n_axis)"
   ]
  },
  {
   "cell_type": "code",
   "execution_count": null,
   "id": "47ede3c2-dd9d-45c2-a1cb-b1efc36fe728",
   "metadata": {},
   "outputs": [],
   "source": [
    "import numpy as np\n",
    "import time\n",
    "t0 = time.time()\n",
    "\n",
    "tar, t=[],[]\n",
    "pos, vel, torque, axis_sensors = [], [], [], []\n",
    "while time.time() - t0< 20:\n",
    "    target = np.sin(0.8*np.pi*(time.time()-t0))\n",
    "    client.set_target_position(slave_id,[target]*n_axis)\n",
    "    time.sleep(0.001)\n",
    "    t.append(time.time()-t0)\n",
    "    tar.append(client.get_target_position(slave_id))\n",
    "    pos.append(client.get_position_actual_value(slave_id))\n",
    "    vel.append(client.get_velocity_actual_value(slave_id))\n",
    "    torque.append(client.get_torque_actual_value(slave_id))\n",
    "    axis_sensors.append(client.get_axis_sensors(slave_id))\n",
    "tar = np.array(tar)\n",
    "vel = np.array(vel)\n",
    "pos = np.array(pos)\n",
    "torque = np.array(torque)\n",
    "axis_sensors = np.array(axis_sensors)"
   ]
  },
  {
   "cell_type": "code",
   "execution_count": null,
   "id": "31f7ecab-e1ba-4723-83b5-80efc4231a2b",
   "metadata": {},
   "outputs": [],
   "source": [
    "import matplotlib.pyplot as plt\n",
    "\n",
    "fig, axs = plt.subplots(4,n_axis, figsize=(10,10))\n",
    "\n",
    "for i, a in enumerate(axs.T):\n",
    "    a[0].step(t,pos[:,i], label=\"actual\")\n",
    "    a[0].step(t,tar[:,i], label=\"target\")    \n",
    "    a[1].step(t,vel[:,i], label = \"actual\")\n",
    "    a[2].step(t,torque[:,i], label = \"actual\")\n",
    "    a[3].step(t, axis_sensors[:,i], label = \"actual\")\n",
    "\n",
    "for i, a in enumerate(axs[:].T):\n",
    "    a[0].set_ylabel(\"position\")\n",
    "    a[0].legend()\n",
    "    a[1].set_ylabel(\"velocity\")\n",
    "    a[1].legend()\n",
    "    a[2].set_ylabel(\"current\")\n",
    "    a[2].legend()\n",
    "    a[3].set_ylabel(\"axis position\")\n",
    "    a[3].legend()\n",
    "    break\n",
    "\n",
    "plt.legend()"
   ]
  },
  {
   "cell_type": "code",
   "execution_count": 27,
   "id": "46cda7cd-f11c-4839-85e0-c781e696e45f",
   "metadata": {},
   "outputs": [
    {
     "name": "stdout",
     "output_type": "stream",
     "text": [
      "loop times \n",
      "mean 1.3381980539573004 ms, \n",
      "max: 136.10506057739258 ms, \n",
      "min 1.1599063873291016 ms\n"
     ]
    },
    {
     "data": {
      "image/png": "[encoded data removed]",
      "text/plain": [
       "<Figure size 640x480 with 1 Axes>"
      ]
     },
     "metadata": {},
     "output_type": "display_data"
    }
   ],
   "source": [
    "dt = np.diff(t)*1000\n",
    "plt.figure()\n",
    "plt.hist(dt,100);\n",
    "plt.xlabel(\"ms\")\n",
    "plt.title(\"Distribution of loop times\")\n",
    "print(f\"loop times \\nmean {dt.mean()} ms, \\nmax: {dt.max()} ms, \\nmin {dt.min()} ms\")"
   ]
  },
  {
   "cell_type": "code",
   "execution_count": null,
   "id": "f641149f-20f6-4765-bdfb-f08d8a0b0e8b",
   "metadata": {},
   "outputs": [],
   "source": []
  }
 ],
 "metadata": {
  "kernelspec": {
   "display_name": "Python 3 (ipykernel)",
   "language": "python",
   "name": "python3"
  },
  "language_info": {
   "codemirror_mode": {
    "name": "ipython",
    "version": 3
   },
   "file_extension": ".py",
   "mimetype": "text/x-python",
   "name": "python",
   "nbconvert_exporter": "python",
   "pygments_lexer": "ipython3",
   "version": "3.12.2"
  }
 },
 "nbformat": 4,
 "nbformat_minor": 5
}
